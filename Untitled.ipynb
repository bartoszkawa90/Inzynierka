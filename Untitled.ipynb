{
 "cells": [
  {
   "cell_type": "code",
   "execution_count": 1,
   "metadata": {},
   "outputs": [
    {
     "name": "stdout",
     "output_type": "stream",
     "text": [
      "Photo dimentions (600, 800, 3)\n"
     ]
    }
   ],
   "source": [
    "# Main program\n",
    "\n",
    "# IMPORTS\n",
    "import cv2 as cv\n",
    "import sys\n",
    "import numpy as np\n",
    "#import tkinter\n",
    "from matplotlib import pyplot as plt\n",
    "\n",
    "def plot_photo(title, image):\n",
    "    while True:\n",
    "        cv.imshow(title, image)\n",
    "        cv.waitKey(0)\n",
    "        sys.exit()\n",
    "    cv.destroyAllWindows()\n",
    "\n",
    "\n",
    "#if __name__ == '__main__':\n",
    "\n",
    "image = cv.imread('photo.jpg')\n",
    "print(\"Photo dimentions\", image.shape)\n",
    "\n",
    "    #plot_photo(\"Photo\", image)"
   ]
  },
  {
   "cell_type": "code",
   "execution_count": null,
   "metadata": {
    "pycharm": {
     "is_executing": true
    }
   },
   "outputs": [
    {
     "name": "stderr",
     "output_type": "stream",
     "text": [
      "Qt: Session management error: None of the authentication protocols specified are supported\n"
     ]
    }
   ],
   "source": [
    "# Przesuwanie częsci obrazu\n",
    "head = image[154:310, 482:700 ,:]\n",
    "image[0:156, 182:400, :] = head\n",
    "\n",
    "#plot_photo(\"Photo\", image)"
   ]
  },
  {
   "cell_type": "code",
   "execution_count": 1,
   "outputs": [
    {
     "ename": "NameError",
     "evalue": "name 'image' is not defined",
     "output_type": "error",
     "traceback": [
      "\u001B[0;31m---------------------------------------------------------------------------\u001B[0m",
      "\u001B[0;31mNameError\u001B[0m                                 Traceback (most recent call last)",
      "Cell \u001B[0;32mIn[1], line 2\u001B[0m\n\u001B[1;32m      1\u001B[0m \u001B[38;5;66;03m# zerowanie RGB czyli wychodzi czarnobiały obraz\u001B[39;00m\n\u001B[0;32m----> 2\u001B[0m black_white \u001B[38;5;241m=\u001B[39m \u001B[43mimage\u001B[49m[:,:,\u001B[38;5;241m0\u001B[39m]\n\u001B[1;32m      3\u001B[0m plot_photo(\u001B[38;5;124m\"\u001B[39m\u001B[38;5;124mCzarno-białe\u001B[39m\u001B[38;5;124m\"\u001B[39m, black_white)\n",
      "\u001B[0;31mNameError\u001B[0m: name 'image' is not defined"
     ]
    }
   ],
   "source": [
    "# zerowanie RGB czyli wychodzi czarnobiały obraz\n",
    "black_white = image[:,:,0]\n",
    "plot_photo(\"Czarno-białe\", black_white)"
   ],
   "metadata": {
    "collapsed": false
   }
  }
 ],
 "metadata": {
  "kernelspec": {
   "display_name": "Python 3 (ipykernel)",
   "language": "python",
   "name": "python3"
  },
  "language_info": {
   "codemirror_mode": {
    "name": "ipython",
    "version": 3
   },
   "file_extension": ".py",
   "mimetype": "text/x-python",
   "name": "python",
   "nbconvert_exporter": "python",
   "pygments_lexer": "ipython3",
   "version": "3.8.10"
  }
 },
 "nbformat": 4,
 "nbformat_minor": 4
}
