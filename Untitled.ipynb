{
 "cells": [
  {
   "cell_type": "code",
   "execution_count": 1,
   "id": "c88f91a1-ef25-481c-94e3-c811824dcb8c",
   "metadata": {},
   "outputs": [
    {
     "name": "stderr",
     "output_type": "stream",
     "text": [
      "[ERROR:0@3.279] global net_impl.cpp:1192 getLayerShapesRecursively OPENCV/DNN: [Convolution]:(conv1_1): getMemoryShapes() post validation failed. inputs=1 outputs=1/1 blobs=2 inplace=0\n",
      "[ERROR:0@3.279] global net_impl.cpp:1199 getLayerShapesRecursively     input[0] = [ 1 3 9248 6936 ]\n",
      "[ERROR:0@3.279] global net_impl.cpp:1203 getLayerShapesRecursively     output[0] = [ 1 64 9316 7004 ]\n",
      "[ERROR:0@3.279] global net_impl.cpp:1207 getLayerShapesRecursively     blobs[0] = CV_32FC1 [ 64 3 3 3 ]\n",
      "[ERROR:0@3.279] global net_impl.cpp:1207 getLayerShapesRecursively     blobs[1] = CV_32FC1 [ 64 1 ]\n",
      "[ERROR:0@3.279] global net_impl.cpp:1209 getLayerShapesRecursively Exception message: OpenCV(4.7.0) /io/opencv/modules/dnn/src/net_impl.cpp:1188: error: (-2:Unspecified error) in function 'void cv::dnn::dnn4_v20221220::Net::Impl::getLayerShapesRecursively(int, cv::dnn::dnn4_v20221220::Net::Impl::LayersShapesMap&)'\n",
      ">  (expected: 'total(os[i]) > 0'), where\n",
      ">     'total(os[i])' is -119014400\n",
      "> must be greater than\n",
      ">     '0' is 0\n",
      "\n"
     ]
    },
    {
     "ename": "error",
     "evalue": "OpenCV(4.7.0) /io/opencv/modules/dnn/src/net_impl.cpp:1188: error: (-2:Unspecified error) in function 'void cv::dnn::dnn4_v20221220::Net::Impl::getLayerShapesRecursively(int, cv::dnn::dnn4_v20221220::Net::Impl::LayersShapesMap&)'\n>  (expected: 'total(os[i]) > 0'), where\n>     'total(os[i])' is -119014400\n> must be greater than\n>     '0' is 0\n",
     "output_type": "error",
     "traceback": [
      "\u001b[0;31m---------------------------------------------------------------------------\u001b[0m",
      "\u001b[0;31merror\u001b[0m                                     Traceback (most recent call last)",
      "Cell \u001b[0;32mIn[1], line 8\u001b[0m\n\u001b[1;32m      6\u001b[0m net \u001b[38;5;241m=\u001b[39m cv2\u001b[38;5;241m.\u001b[39mdnn\u001b[38;5;241m.\u001b[39mreadNetFromCaffe(\u001b[38;5;124m\"\u001b[39m\u001b[38;5;124mdeploy.prototxt\u001b[39m\u001b[38;5;124m\"\u001b[39m, \u001b[38;5;124m\"\u001b[39m\u001b[38;5;124mhed_pretrained_bsds.caffemodel\u001b[39m\u001b[38;5;124m\"\u001b[39m)\n\u001b[1;32m      7\u001b[0m net\u001b[38;5;241m.\u001b[39msetInput(blob)\n\u001b[0;32m----> 8\u001b[0m hed \u001b[38;5;241m=\u001b[39m \u001b[43mnet\u001b[49m\u001b[38;5;241;43m.\u001b[39;49m\u001b[43mforward\u001b[49m\u001b[43m(\u001b[49m\u001b[43m)\u001b[49m\n\u001b[1;32m      9\u001b[0m hed \u001b[38;5;241m=\u001b[39m cv2\u001b[38;5;241m.\u001b[39mresize(hed[\u001b[38;5;241m0\u001b[39m, \u001b[38;5;241m0\u001b[39m], (W, H))\n\u001b[1;32m     10\u001b[0m hed \u001b[38;5;241m=\u001b[39m (\u001b[38;5;241m255\u001b[39m \u001b[38;5;241m*\u001b[39m hed)\u001b[38;5;241m.\u001b[39mastype(\u001b[38;5;124m\"\u001b[39m\u001b[38;5;124muint8\u001b[39m\u001b[38;5;124m\"\u001b[39m)\n",
      "\u001b[0;31merror\u001b[0m: OpenCV(4.7.0) /io/opencv/modules/dnn/src/net_impl.cpp:1188: error: (-2:Unspecified error) in function 'void cv::dnn::dnn4_v20221220::Net::Impl::getLayerShapesRecursively(int, cv::dnn::dnn4_v20221220::Net::Impl::LayersShapesMap&)'\n>  (expected: 'total(os[i]) > 0'), where\n>     'total(os[i])' is -119014400\n> must be greater than\n>     '0' is 0\n"
     ]
    }
   ],
   "source": [
    "import cv2\n",
    "img = cv2.imread('Zdjecia/NET G2, Ki-67 około 5% --copy.jpg')\n",
    "(H, W) = img.shape[:2]\n",
    "blob = cv2.dnn.blobFromImage(img, scalefactor=1.0, size=(W, H),\n",
    "    swapRB=False, crop=False)\n",
    "net = cv2.dnn.readNetFromCaffe(\"deploy.prototxt\", \"hed_pretrained_bsds.caffemodel\")\n",
    "net.setInput(blob)\n",
    "hed = net.forward()\n",
    "hed = cv2.resize(hed[0, 0], (W, H))\n",
    "hed = (255 * hed).astype(\"uint8\")\n",
    "cv2.imshow(\"Input\", img)\n",
    "cv2.imshow(\"HED\", hed)\n",
    "cv2.waitKey(0)"
   ]
  },
  {
   "cell_type": "code",
   "execution_count": null,
   "id": "1c9e8579-06fe-4505-a32d-9b2465700e15",
   "metadata": {},
   "outputs": [],
   "source": []
  }
 ],
 "metadata": {
  "kernelspec": {
   "display_name": "Python 3 (ipykernel)",
   "language": "python",
   "name": "python3"
  },
  "language_info": {
   "codemirror_mode": {
    "name": "ipython",
    "version": 3
   },
   "file_extension": ".py",
   "mimetype": "text/x-python",
   "name": "python",
   "nbconvert_exporter": "python",
   "pygments_lexer": "ipython3",
   "version": "3.10.11"
  }
 },
 "nbformat": 4,
 "nbformat_minor": 5
}
