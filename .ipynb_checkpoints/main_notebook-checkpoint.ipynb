{
 "cells": [
  {
   "cell_type": "code",
   "execution_count": 1,
   "id": "827374a9-bda8-467a-b98e-f43a755c48dd",
   "metadata": {},
   "outputs": [],
   "source": [
    "from resources import *"
   ]
  },
  {
   "cell_type": "code",
   "execution_count": 2,
   "id": "e8ccbccf-4a57-426a-b7d5-b55acbc93210",
   "metadata": {},
   "outputs": [
    {
     "name": "stdout",
     "output_type": "stream",
     "text": [
      "Start\n"
     ]
    }
   ],
   "source": [
    "\n",
    "print(\"Start\")\n",
    "start_time = time.time()\n",
    "\n",
    "# Reading an image in default mode\n",
    "img = cv2.imread('Zdjecia/NET G2, Ki-67 około 5% --copy.jpg')\n",
    "gray = cv2.cvtColor(img, cv2.COLOR_BGRA2GRAY)\n",
    "\n",
    "# Extracting edges and cells contours from image\n",
    "# do adaptive threshold on gray image\n",
    "thresh = cv2.adaptiveThreshold(gray, 255, cv2.ADAPTIVE_THRESH_MEAN_C, cv2.THRESH_BINARY, 101, 3)\n",
    "\n",
    "# apply morphology -- get getStructuringElement składa nam maciez o zadanych wymiarach która bedzie nam potrzebna\n",
    "#   -- morphologyEx pozwala wyłapać kontur : MORPH_OPEN czysci tło ze smieci a MORPH_CLOSE czysci kontury komórek\n",
    "#      ze smieci\n",
    "kernel = cv2.getStructuringElement(cv2.MORPH_ELLIPSE, (5, 5))\n",
    "blob = cv2.morphologyEx(thresh, cv2.MORPH_OPEN, kernel)\n",
    "kernel = cv2.getStructuringElement(cv2.MORPH_ELLIPSE, (12, 12))\n",
    "blob = cv2.morphologyEx(blob, cv2.MORPH_CLOSE, kernel)\n",
    "\n",
    "edged = cv2.Canny(blob, 10, 250)\n",
    "contours, hierarchy = cv2.findContours(edged, cv2.RETR_EXTERNAL, cv2.CHAIN_APPROX_SIMPLE)\n",
    "\n",
    "\n",
    "# Draw Contours\n",
    "# cv2.drawContours(gray, conts, -1, (0, 255, 0), 3)\n",
    "\n"
   ]
  },
  {
   "cell_type": "code",
   "execution_count": 3,
   "id": "93287919-7171-4217-b801-c594cd0d3757",
   "metadata": {},
   "outputs": [],
   "source": [
    "\n",
    "#WORK WITH CELLS\n",
    "\n",
    "\n",
    "\n"
   ]
  },
  {
   "cell_type": "code",
   "execution_count": 4,
   "id": "687833a6-cf4d-4342-b963-820269969d86",
   "metadata": {},
   "outputs": [],
   "source": [
    "# CLEANING too small and too large contours\n",
    "largest, smallest = find_extreme_contours(contours)\n",
    "if (largest.shape[0] > 1000 or smallest.shape[0] < 100):\n",
    "    conts = tuple([con for con in contours if (con.shape[0] < 1000 and con.shape[0] > 100)])\n",
    "\n",
    "elif (smallest.shape[0] < 100):\n",
    "    conts = tuple([con for con in contours if (con.shape[0] > 100)])\n",
    "\n",
    "elif (largest.shape[0] > 1000):\n",
    "    conts = tuple([con for con in contours if (con.shape[0] < 1000)])\n",
    "\n",
    "else:\n",
    "    conts = contours\n",
    "\n",
    "cells = [extract_cell(c, gray, CLEAR_BACKGROUND) for c in conts]\n",
    "Cells = [cell for cell in cells if ((np.sum(cell==255)/cell.size)<0.8 and (np.sum(cell<30)/cell.size)<0.8)]"
   ]
  },
  {
   "cell_type": "code",
   "execution_count": 5,
   "id": "671545ec-3842-4c94-ab94-79eb584a93f0",
   "metadata": {},
   "outputs": [],
   "source": [
    "#SAVE Cells in ./Cells\n",
    "# iter = 1\n",
    "# for c in Cells:\n",
    "#     cv2.imwrite(\"Cells/cell\"+str(iter)+\".jpg\", c)\n",
    "#     iter += 1"
   ]
  },
  {
   "cell_type": "code",
   "execution_count": 6,
   "id": "6428a6b1-b4df-43ee-9286-a145bab9e59a",
   "metadata": {},
   "outputs": [
    {
     "name": "stdout",
     "output_type": "stream",
     "text": [
      "Finish\n",
      "--- 26.522790670394897 seconds ---\n"
     ]
    },
    {
     "ename": "SystemExit",
     "evalue": "",
     "output_type": "error",
     "traceback": [
      "An exception has occurred, use %tb to see the full traceback.\n",
      "\u001b[0;31mSystemExit\u001b[0m\n"
     ]
    },
    {
     "name": "stderr",
     "output_type": "stream",
     "text": [
      "/home/bartosz/.local/lib/python3.10/site-packages/IPython/core/interactiveshell.py:3513: UserWarning: To exit: use 'exit', 'quit', or Ctrl-D.\n",
      "  warn(\"To exit: use 'exit', 'quit', or Ctrl-D.\", stacklevel=1)\n"
     ]
    }
   ],
   "source": [
    "# DISPLAY\n",
    "# plot_photo(\"Contours\",Cells[100],900,900)\n",
    "# plt.title(\"Photo\")\n",
    "# plt.xlabel(\"X pixel scaling\")\n",
    "# plt.ylabel(\"Y pixels scaling\")\n",
    "# plt.imshow(extracted_cell,cmap='gray')\n",
    "# plt.show()\n",
    "\n",
    "print(\"Finish\")\n",
    "print(\"--- %s seconds ---\" % (time.time() - start_time))\n",
    "# sys.exit()"
   ]
  }
 ],
 "metadata": {
  "kernelspec": {
   "display_name": "Python 3 (ipykernel)",
   "language": "python",
   "name": "python3"
  },
  "language_info": {
   "codemirror_mode": {
    "name": "ipython",
    "version": 3
   },
   "file_extension": ".py",
   "mimetype": "text/x-python",
   "name": "python",
   "nbconvert_exporter": "python",
   "pygments_lexer": "ipython3",
   "version": "3.10.11"
  }
 },
 "nbformat": 4,
 "nbformat_minor": 5
}
